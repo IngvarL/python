{
 "cells": [
  {
   "cell_type": "markdown",
   "metadata": {},
   "source": [
    "## Домашнее задание к занятию 1. Знакомство с Python\n",
    "### Задание 1\n",
    "Напишите программу, которая последовательно запрашивает у пользователя Дату и Описание задачи, а затем выводит их через пробел.\n",
    "\n",
    "Пример ввода-вывода программы:\n",
    "\n",
    "Введите дату: Сегодня\n",
    "Введите задачу: Сделать все дела\n",
    "Сегодня Сделать все дела\n"
   ]
  },
  {
   "cell_type": "code",
   "execution_count": 3,
   "metadata": {},
   "outputs": [
    {
     "name": "stdout",
     "output_type": "stream",
     "text": [
      "Введите дату:Сегодня\n",
      "Введите задачу:Сделать все дела\n",
      "\n",
      "Дата \t\t Задача\n",
      "Сегодня - Сделать все дела\n"
     ]
    }
   ],
   "source": [
    "date = input('Введите дату:')\n",
    "task = input('Введите задачу:')\n",
    "print('\\nДата \\t\\t Задача')\n",
    "print(f'{date} - {task}')"
   ]
  },
  {
   "cell_type": "markdown",
   "metadata": {},
   "source": [
    "### Задание 2\n",
    "Модифицируйте программу из задания 1 таким образом, чтобы запрос даты и задачи выполнялся трижды и после этого результаты выводились на экран построчно в формате: на одной строчке дата и задача через пробел.\n",
    "\n",
    "Пример ввода-вывода программы:\n",
    "\n",
    "Введите дату: Сегодня\n",
    "Введите задачу: Выучить Python\n",
    "\n",
    "Введите дату: Завтра\n",
    "Введите задачу: Разработать TODO-приложение\n",
    "\n",
    "Введите дату: Послезавтра\n",
    "Введите задачу: Разработать Telegram-бота\n",
    "\n",
    "Сегодня Выучить Python\n",
    "Завтра Разработать TODO-приложение\n",
    "Послезавтра Разработать Telegram-бота\n"
   ]
  },
  {
   "cell_type": "code",
   "execution_count": 7,
   "metadata": {},
   "outputs": [
    {
     "name": "stdout",
     "output_type": "stream",
     "text": [
      "Введите дату:Сегодня\n",
      "Введите задачу:Выучить Python\n",
      "Введите дату:Завтра\n",
      "Введите задачу:Разработать TODO-приложение\n",
      "Введите дату:Послезавтра\n",
      "Введите задачу:Разработать Telegram-бота\n"
     ]
    }
   ],
   "source": [
    "task_string = ''\n",
    "for i in range(3):\n",
    "    date = input('Введите дату:')\n",
    "    task = input('Введите задачу:')\n",
    "    task_string += date + '\\t'+task+'\\n'"
   ]
  },
  {
   "cell_type": "code",
   "execution_count": 18,
   "metadata": {
    "scrolled": true
   },
   "outputs": [
    {
     "name": "stdout",
     "output_type": "stream",
     "text": [
      "Сегодня\tВыучить Python\n",
      "Завтра\tРазработать TODO-приложение\n",
      "Послезавтра\tРазработать Telegram-бота\n",
      "\n"
     ]
    }
   ],
   "source": [
    "print(task_string)"
   ]
  },
  {
   "cell_type": "markdown",
   "metadata": {},
   "source": [
    "### Задание 3\n",
    "Модифицируйте программу из задания 2 таким образом, чтобы данные не выводились на экран, а сохранялись в словарь. Ключами в этом словаре должны быть даты, а значениями - соответствующие им задачи.\n",
    "\n",
    "Пример ввода программы:\n",
    "\n",
    "Введите дату: Сегодня\n",
    "Введите задачу: Выучить Python\n",
    "Введите дату: Завтра\n",
    "Введите задачу: Разработать TODO-приложение\n",
    "Введите дату: Послезавтра\n",
    "Введите задачу: Разработать Telegram-бота\n",
    "Это задание не предполагает вывод информации на экран.\n",
    "\n",
    "Подсказки\n",
    "Для запроса данных у пользователя используйте функцию input.\n",
    "Для вывода данных на экран используйте функцию print.\n",
    "Сохраняйте нужные вам данные в переменные."
   ]
  },
  {
   "cell_type": "code",
   "execution_count": null,
   "metadata": {},
   "outputs": [],
   "source": [
    "task_list = {}\n",
    "for i in range(3):\n",
    "    date = input('Введите дату:')\n",
    "    task = input('Введите задачу:')\n",
    "    task_list[date] = task"
   ]
  },
  {
   "cell_type": "code",
   "execution_count": 14,
   "metadata": {},
   "outputs": [
    {
     "name": "stdout",
     "output_type": "stream",
     "text": [
      "\n",
      "Дата \t\t Задача\n",
      "Сегодня \t Выучить Python\n",
      "Завтра \t Разработать TODO-приложение\n",
      "Послезавтра \t Разработать Telegram-бота\n"
     ]
    }
   ],
   "source": [
    "print('\\nДата \\t\\t Задача')\n",
    "for i in task_list:\n",
    "    print(f'{i} \\t {task_list[i]}')"
   ]
  }
 ],
 "metadata": {
  "kernelspec": {
   "display_name": "Python 3",
   "language": "python",
   "name": "python3"
  },
  "language_info": {
   "codemirror_mode": {
    "name": "ipython",
    "version": 3
   },
   "file_extension": ".py",
   "mimetype": "text/x-python",
   "name": "python",
   "nbconvert_exporter": "python",
   "pygments_lexer": "ipython3",
   "version": "3.7.6"
  }
 },
 "nbformat": 4,
 "nbformat_minor": 4
}
